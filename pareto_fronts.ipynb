{
 "cells": [
  {
   "cell_type": "code",
   "execution_count": 1,
   "metadata": {},
   "outputs": [],
   "source": [
    "%matplotlib inline\n",
    "\n",
    "import pandas as pd\n",
    "import matplotlib.pyplot as plt"
   ]
  },
  {
   "cell_type": "code",
   "execution_count": 2,
   "metadata": {},
   "outputs": [
    {
     "data": {
      "text/html": [
       "<div>\n",
       "<style scoped>\n",
       "    .dataframe tbody tr th:only-of-type {\n",
       "        vertical-align: middle;\n",
       "    }\n",
       "\n",
       "    .dataframe tbody tr th {\n",
       "        vertical-align: top;\n",
       "    }\n",
       "\n",
       "    .dataframe thead th {\n",
       "        text-align: right;\n",
       "    }\n",
       "</style>\n",
       "<table border=\"1\" class=\"dataframe\">\n",
       "  <thead>\n",
       "    <tr style=\"text-align: right;\">\n",
       "      <th></th>\n",
       "      <th>price</th>\n",
       "      <th>weight</th>\n",
       "    </tr>\n",
       "  </thead>\n",
       "  <tbody>\n",
       "    <tr>\n",
       "      <th>0</th>\n",
       "      <td>400</td>\n",
       "      <td>15.0</td>\n",
       "    </tr>\n",
       "    <tr>\n",
       "      <th>1</th>\n",
       "      <td>450</td>\n",
       "      <td>12.2</td>\n",
       "    </tr>\n",
       "    <tr>\n",
       "      <th>2</th>\n",
       "      <td>620</td>\n",
       "      <td>10.5</td>\n",
       "    </tr>\n",
       "    <tr>\n",
       "      <th>3</th>\n",
       "      <td>750</td>\n",
       "      <td>14.3</td>\n",
       "    </tr>\n",
       "    <tr>\n",
       "      <th>4</th>\n",
       "      <td>900</td>\n",
       "      <td>12.3</td>\n",
       "    </tr>\n",
       "  </tbody>\n",
       "</table>\n",
       "</div>"
      ],
      "text/plain": [
       "   price  weight\n",
       "0    400    15.0\n",
       "1    450    12.2\n",
       "2    620    10.5\n",
       "3    750    14.3\n",
       "4    900    12.3"
      ]
     },
     "execution_count": 2,
     "metadata": {},
     "output_type": "execute_result"
    }
   ],
   "source": [
    "df = pd.read_csv(\"final_pbd.csv\", names=['price', 'weight'], sep=';')\n",
    "\n",
    "df.head()"
   ]
  },
  {
   "cell_type": "code",
   "execution_count": 3,
   "metadata": {
    "scrolled": false
   },
   "outputs": [
    {
     "name": "stdout",
     "output_type": "stream",
     "text": [
      "elements in Pareto front 1: [0, 1, 2, 6, 7, 13, 16, 18, 20]\n",
      "elements in Pareto front 2: [3, 4, 8, 12, 17, 19]\n",
      "elements in Pareto front 3: [5, 9, 11, 14]\n",
      "elements in Pareto front 4: [10, 15]\n"
     ]
    }
   ],
   "source": [
    "fronts = []\n",
    "nfront = 1\n",
    "\n",
    "# we'll need the original data for plotting\n",
    "odf = df.copy()\n",
    "\n",
    "while len(df) > 0:\n",
    "    ifront = []\n",
    "\n",
    "    isDominant = True\n",
    "    \n",
    "    for i in df.index.values:\n",
    "        isDominant = True\n",
    "        for j in df.index.values:\n",
    "            if i == j:\n",
    "                continue\n",
    "            if df['weight'][j] < df['weight'][i] and df['price'][j] < df['price'][i]:\n",
    "                isDominant = False\n",
    "        if isDominant:\n",
    "            ifront.append(i)\n",
    "\n",
    "    fronts.append(df.loc[ifront])\n",
    "    print(\"elements in Pareto front {}:\".format(nfront), ifront)\n",
    "    df = df.drop(index=ifront)\n",
    "    nfront += 1\n",
    "\n",
    "\n",
    "plt.show()"
   ]
  },
  {
   "cell_type": "code",
   "execution_count": 4,
   "metadata": {},
   "outputs": [
    {
     "data": {
      "image/png": "[encoded data removed]",
      "text/plain": [
       "<matplotlib.figure.Figure at 0x7f82a7154c18>"
      ]
     },
     "metadata": {},
     "output_type": "display_data"
    }
   ],
   "source": [
    "x = odf['price'].values\n",
    "y = odf['weight'].values\n",
    "plt.plot(x, y, 'ro')\n",
    "\n",
    "for fdf in fronts:\n",
    "    pfx = fdf['price'].values\n",
    "    pfy = fdf['weight'].values\n",
    "    plt.plot(pfx, pfy)\n",
    "\n",
    "plt.show()"
   ]
  },
  {
   "cell_type": "code",
   "execution_count": null,
   "metadata": {},
   "outputs": [],
   "source": []
  }
 ],
 "metadata": {
  "kernelspec": {
   "display_name": "Python 3",
   "language": "python",
   "name": "python3"
  },
  "language_info": {
   "codemirror_mode": {
    "name": "ipython",
    "version": 3
   },
   "file_extension": ".py",
   "mimetype": "text/x-python",
   "name": "python",
   "nbconvert_exporter": "python",
   "pygments_lexer": "ipython3",
   "version": "3.6.6"
  }
 },
 "nbformat": 4,
 "nbformat_minor": 2
}
